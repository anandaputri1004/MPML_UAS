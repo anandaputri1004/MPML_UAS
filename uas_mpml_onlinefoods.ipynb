# UAS MPML - OnlineFoods Classification

This notebook covers:
1. Load and explore data
2. Preprocessing
3. Train/test split
4. Model comparison (LogReg, RandomForest, GradientBoosting)
5. Save best model
6. Example prediction

## Run all cells to reproduce the analysis
